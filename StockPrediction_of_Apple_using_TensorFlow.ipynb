{
  "nbformat": 4,
  "nbformat_minor": 0,
  "metadata": {
    "colab": {
      "name": "StockPrediction of Apple using TensorFlow.ipynb",
      "provenance": [],
      "collapsed_sections": [],
      "authorship_tag": "ABX9TyPFCGmRaFP4W8Sd2h6atV5y",
      "include_colab_link": true
    },
    "kernelspec": {
      "name": "python3",
      "display_name": "Python 3"
    }
  },
  "cells": [
    {
      "cell_type": "markdown",
      "metadata": {
        "id": "view-in-github",
        "colab_type": "text"
      },
      "source": [
        "<a href=\"https://colab.research.google.com/github/Amulya-Anurag/Amulya/blob/master/StockPrediction_of_Apple_using_TensorFlow.ipynb\" target=\"_parent\"><img src=\"https://colab.research.google.com/assets/colab-badge.svg\" alt=\"Open In Colab\"/></a>"
      ]
    },
    {
      "cell_type": "code",
      "metadata": {
        "id": "f8xADlHcK1Eo",
        "colab_type": "code",
        "colab": {
          "base_uri": "https://localhost:8080/",
          "height": 50
        },
        "outputId": "f4f35903-81d4-4565-cd72-0c1bcbab9ede"
      },
      "source": [
        "# Import relevent libraries\n",
        "import pandas as pd\n",
        "import numpy as np\n",
        "import tensorflow as tf\n",
        "from pandas_datareader import data\n",
        "import matplotlib.pyplot as plt\n",
        "import seaborn as sns\n",
        "sns.set()"
      ],
      "execution_count": 1,
      "outputs": [
        {
          "output_type": "stream",
          "text": [
            "/usr/local/lib/python3.6/dist-packages/pandas_datareader/compat/__init__.py:7: FutureWarning: pandas.util.testing is deprecated. Use the functions in the public API at pandas.testing instead.\n",
            "  from pandas.util.testing import assert_frame_equal\n"
          ],
          "name": "stderr"
        }
      ]
    },
    {
      "cell_type": "code",
      "metadata": {
        "id": "wIkU6SoBK6eH",
        "colab_type": "code",
        "colab": {
          "base_uri": "https://localhost:8080/",
          "height": 227
        },
        "outputId": "1fda4900-757e-418b-9895-03ccefab12df"
      },
      "source": [
        "# Fetch the Apple stock data from 2010-01 to 2020-06\n",
        "start_date = '2010-01-01'\n",
        "end_date = '2020-06-30'\n",
        "stock = data.DataReader('AAPL', 'yahoo', start_date, end_date)\n",
        "stock.head()"
      ],
      "execution_count": 2,
      "outputs": [
        {
          "output_type": "execute_result",
          "data": {
            "text/html": [
              "<div>\n",
              "<style scoped>\n",
              "    .dataframe tbody tr th:only-of-type {\n",
              "        vertical-align: middle;\n",
              "    }\n",
              "\n",
              "    .dataframe tbody tr th {\n",
              "        vertical-align: top;\n",
              "    }\n",
              "\n",
              "    .dataframe thead th {\n",
              "        text-align: right;\n",
              "    }\n",
              "</style>\n",
              "<table border=\"1\" class=\"dataframe\">\n",
              "  <thead>\n",
              "    <tr style=\"text-align: right;\">\n",
              "      <th></th>\n",
              "      <th>High</th>\n",
              "      <th>Low</th>\n",
              "      <th>Open</th>\n",
              "      <th>Close</th>\n",
              "      <th>Volume</th>\n",
              "      <th>Adj Close</th>\n",
              "    </tr>\n",
              "    <tr>\n",
              "      <th>Date</th>\n",
              "      <th></th>\n",
              "      <th></th>\n",
              "      <th></th>\n",
              "      <th></th>\n",
              "      <th></th>\n",
              "      <th></th>\n",
              "    </tr>\n",
              "  </thead>\n",
              "  <tbody>\n",
              "    <tr>\n",
              "      <th>2010-01-04</th>\n",
              "      <td>30.642857</td>\n",
              "      <td>30.340000</td>\n",
              "      <td>30.490000</td>\n",
              "      <td>30.572857</td>\n",
              "      <td>123432400.0</td>\n",
              "      <td>26.466835</td>\n",
              "    </tr>\n",
              "    <tr>\n",
              "      <th>2010-01-05</th>\n",
              "      <td>30.798571</td>\n",
              "      <td>30.464285</td>\n",
              "      <td>30.657143</td>\n",
              "      <td>30.625713</td>\n",
              "      <td>150476200.0</td>\n",
              "      <td>26.512596</td>\n",
              "    </tr>\n",
              "    <tr>\n",
              "      <th>2010-01-06</th>\n",
              "      <td>30.747143</td>\n",
              "      <td>30.107143</td>\n",
              "      <td>30.625713</td>\n",
              "      <td>30.138571</td>\n",
              "      <td>138040000.0</td>\n",
              "      <td>26.090879</td>\n",
              "    </tr>\n",
              "    <tr>\n",
              "      <th>2010-01-07</th>\n",
              "      <td>30.285715</td>\n",
              "      <td>29.864286</td>\n",
              "      <td>30.250000</td>\n",
              "      <td>30.082857</td>\n",
              "      <td>119282800.0</td>\n",
              "      <td>26.042646</td>\n",
              "    </tr>\n",
              "    <tr>\n",
              "      <th>2010-01-08</th>\n",
              "      <td>30.285715</td>\n",
              "      <td>29.865715</td>\n",
              "      <td>30.042856</td>\n",
              "      <td>30.282858</td>\n",
              "      <td>111902700.0</td>\n",
              "      <td>26.215786</td>\n",
              "    </tr>\n",
              "  </tbody>\n",
              "</table>\n",
              "</div>"
            ],
            "text/plain": [
              "                 High        Low       Open      Close       Volume  Adj Close\n",
              "Date                                                                          \n",
              "2010-01-04  30.642857  30.340000  30.490000  30.572857  123432400.0  26.466835\n",
              "2010-01-05  30.798571  30.464285  30.657143  30.625713  150476200.0  26.512596\n",
              "2010-01-06  30.747143  30.107143  30.625713  30.138571  138040000.0  26.090879\n",
              "2010-01-07  30.285715  29.864286  30.250000  30.082857  119282800.0  26.042646\n",
              "2010-01-08  30.285715  29.865715  30.042856  30.282858  111902700.0  26.215786"
            ]
          },
          "metadata": {
            "tags": []
          },
          "execution_count": 2
        }
      ]
    },
    {
      "cell_type": "code",
      "metadata": {
        "id": "Y6PComFBdi3j",
        "colab_type": "code",
        "colab": {
          "base_uri": "https://localhost:8080/",
          "height": 611
        },
        "outputId": "1136fdeb-2d20-4862-c0cd-763fdc3c570d"
      },
      "source": [
        "plt.figure( figsize=(15,10))\n",
        "plt.plot(stock.Open)\n",
        "plt.legend(['Actual'],loc= 'upper left')\n",
        "plt.xlabel('Time')\n",
        "plt.ylabel(\"Open Value of Apple Stock\")\n",
        "plt.show()"
      ],
      "execution_count": 3,
      "outputs": [
        {
          "output_type": "display_data",
          "data": {
            "image/png": "[encoded data removed]",
            "text/plain": [
              "<Figure size 1080x720 with 1 Axes>"
            ]
          },
          "metadata": {
            "tags": [],
            "needs_background": "light"
          }
        }
      ]
    },
    {
      "cell_type": "code",
      "metadata": {
        "id": "A13huejHMwdv",
        "colab_type": "code",
        "colab": {}
      },
      "source": [
        "# Include stock information upto 2019 into train dataset \n",
        "train_set=stock[stock.index<'2019-12-31']\n",
        "# Not including Adj Close in learning process\n",
        "train=train_set.drop(['Adj Close'],axis=1)"
      ],
      "execution_count": 4,
      "outputs": []
    },
    {
      "cell_type": "code",
      "metadata": {
        "id": "4MS3ZRNHPAE_",
        "colab_type": "code",
        "colab": {
          "base_uri": "https://localhost:8080/",
          "height": 183
        },
        "outputId": "ae090fc5-4866-4360-fe8e-4f19c404fd04"
      },
      "source": [
        "#Use Min-Max scaler to scale the data\n",
        "from sklearn.preprocessing import MinMaxScaler\n",
        "scaler = MinMaxScaler()\n",
        "train_scaled= scaler.fit_transform(train)\n",
        "train_scaled[0:10]"
      ],
      "execution_count": 5,
      "outputs": [
        {
          "output_type": "execute_result",
          "data": {
            "text/plain": [
              "array([[0.00993667, 0.01211547, 0.01141173, 0.01187932, 0.24422195],\n",
              "       [0.01052213, 0.01259177, 0.01204571, 0.01207947, 0.30315535],\n",
              "       [0.01032877, 0.0112231 , 0.0119265 , 0.01023482, 0.27605459],\n",
              "       [0.00859388, 0.0102924 , 0.01050139, 0.01002385, 0.23517921],\n",
              "       [0.00859388, 0.01029788, 0.00971568, 0.01078119, 0.21909662],\n",
              "       [0.009131  , 0.00996392, 0.01107035, 0.00976961, 0.22706088],\n",
              "       [0.00739611, 0.00885256, 0.00911421, 0.00847673, 0.29909923],\n",
              "       [0.00801916, 0.00758243, 0.00839895, 0.01006172, 0.30532756],\n",
              "       [0.00776672, 0.01027598, 0.00961273, 0.00940176, 0.21107897],\n",
              "       [0.00837903, 0.00855145, 0.01005706, 0.00750842, 0.29888567]])"
            ]
          },
          "metadata": {
            "tags": []
          },
          "execution_count": 5
        }
      ]
    },
    {
      "cell_type": "code",
      "metadata": {
        "id": "weE5NIzNPC8T",
        "colab_type": "code",
        "colab": {
          "base_uri": "https://localhost:8080/",
          "height": 33
        },
        "outputId": "f310796c-172a-408b-848c-14ccc68dd977"
      },
      "source": [
        "#xtrain will be 5 dimensional data and ytrain will be 'Open' column from stock information\n",
        "\n",
        "xtrain = []\n",
        "ytrain = []\n",
        "\n",
        "#Creating a datset with 60 days timesteps\n",
        "\n",
        "for i in range(60, len(train_scaled)):\n",
        "  xtrain.append(train_scaled[i-60:i])\n",
        "  ytrain.append(train_scaled[i, 2]) # 2 is here to select 'Open' column\n",
        "\n",
        "xtrain = np.array(xtrain)\n",
        "ytrain = np.array(ytrain)\n",
        "\n",
        "#Lets Check the Shape of xtrain\n",
        "xtrain.shape"
      ],
      "execution_count": 6,
      "outputs": [
        {
          "output_type": "execute_result",
          "data": {
            "text/plain": [
              "(2455, 60, 5)"
            ]
          },
          "metadata": {
            "tags": []
          },
          "execution_count": 6
        }
      ]
    },
    {
      "cell_type": "code",
      "metadata": {
        "id": "49SvfuWOXHUB",
        "colab_type": "code",
        "colab": {}
      },
      "source": [
        "# Choose libraries for model training\n",
        "from tensorflow.keras.models import Sequential\n",
        "from tensorflow.keras.layers import Dense,LSTM,Dropout"
      ],
      "execution_count": 7,
      "outputs": []
    },
    {
      "cell_type": "code",
      "metadata": {
        "id": "31t-ulQpiEcC",
        "colab_type": "code",
        "colab": {}
      },
      "source": [
        "#Create a LSTM model with 4 LSTM layer and Apply Dropout of 20% and lastly a Dense layer with 1 neuron\n",
        "\n",
        "RNN = Sequential([ \n",
        "                            LSTM(units=50, return_sequences=True, input_shape=(xtrain.shape[1], 5)),\n",
        "                            Dropout(0.20),\n",
        "\n",
        "                            LSTM(units=50, return_sequences=True),\n",
        "                            Dropout(0.20),\n",
        "\n",
        "                           LSTM(units=50, return_sequences=True),\n",
        "                           Dropout(0.20),\n",
        "\n",
        "                           LSTM(units=50),\n",
        "                           Dropout(0.20),\n",
        "                           \n",
        "                           Dense(units=1)\n",
        "                          ])"
      ],
      "execution_count": 8,
      "outputs": []
    },
    {
      "cell_type": "markdown",
      "metadata": {
        "id": "Qs9t-IbLa4Tq",
        "colab_type": "text"
      },
      "source": [
        "Compile and Fit the Model"
      ]
    },
    {
      "cell_type": "code",
      "metadata": {
        "id": "XfJ47H3yiSZ2",
        "colab_type": "code",
        "colab": {
          "base_uri": "https://localhost:8080/",
          "height": 700
        },
        "outputId": "7d7129af-b2d1-4172-92bb-6d8b0fadc4dc"
      },
      "source": [
        "RNN.compile(optimizer='adam', loss='mean_squared_error')\n",
        "\n",
        "RNN.fit(x=xtrain, y=ytrain , epochs=20, batch_size=1)\n"
      ],
      "execution_count": 9,
      "outputs": [
        {
          "output_type": "stream",
          "text": [
            "Epoch 1/20\n",
            "2455/2455 [==============================] - 136s 55ms/step - loss: 0.0042\n",
            "Epoch 2/20\n",
            "2455/2455 [==============================] - 135s 55ms/step - loss: 0.0024\n",
            "Epoch 3/20\n",
            "2455/2455 [==============================] - 132s 54ms/step - loss: 0.0017\n",
            "Epoch 4/20\n",
            "2455/2455 [==============================] - 134s 55ms/step - loss: 0.0016\n",
            "Epoch 5/20\n",
            "2455/2455 [==============================] - 130s 53ms/step - loss: 0.0014\n",
            "Epoch 6/20\n",
            "2455/2455 [==============================] - 131s 53ms/step - loss: 0.0014\n",
            "Epoch 7/20\n",
            "2455/2455 [==============================] - 134s 54ms/step - loss: 0.0014\n",
            "Epoch 8/20\n",
            "2455/2455 [==============================] - 132s 54ms/step - loss: 0.0012\n",
            "Epoch 9/20\n",
            "2455/2455 [==============================] - 129s 53ms/step - loss: 0.0010\n",
            "Epoch 10/20\n",
            "2455/2455 [==============================] - 128s 52ms/step - loss: 0.0011\n",
            "Epoch 11/20\n",
            "2455/2455 [==============================] - 133s 54ms/step - loss: 0.0011\n",
            "Epoch 12/20\n",
            "2455/2455 [==============================] - 132s 54ms/step - loss: 0.0010\n",
            "Epoch 13/20\n",
            "2455/2455 [==============================] - 132s 54ms/step - loss: 9.3189e-04\n",
            "Epoch 14/20\n",
            "2455/2455 [==============================] - 133s 54ms/step - loss: 9.9009e-04\n",
            "Epoch 15/20\n",
            "2455/2455 [==============================] - 130s 53ms/step - loss: 9.2266e-04\n",
            "Epoch 16/20\n",
            "2455/2455 [==============================] - 133s 54ms/step - loss: 8.5656e-04\n",
            "Epoch 17/20\n",
            "2455/2455 [==============================] - 131s 53ms/step - loss: 8.2600e-04\n",
            "Epoch 18/20\n",
            "2455/2455 [==============================] - 132s 54ms/step - loss: 7.6405e-04\n",
            "Epoch 19/20\n",
            "2455/2455 [==============================] - 134s 54ms/step - loss: 8.4635e-04\n",
            "Epoch 20/20\n",
            "2455/2455 [==============================] - 130s 53ms/step - loss: 7.3407e-04\n"
          ],
          "name": "stdout"
        },
        {
          "output_type": "execute_result",
          "data": {
            "text/plain": [
              "<tensorflow.python.keras.callbacks.History at 0x7fcb68d3b7f0>"
            ]
          },
          "metadata": {
            "tags": []
          },
          "execution_count": 9
        }
      ]
    },
    {
      "cell_type": "markdown",
      "metadata": {
        "id": "iAsBregDbCSe",
        "colab_type": "text"
      },
      "source": [
        "Create the Testing data set"
      ]
    },
    {
      "cell_type": "code",
      "metadata": {
        "id": "cC9QYbq2iWXh",
        "colab_type": "code",
        "colab": {}
      },
      "source": [
        "# Take stock information from 2020 upto june\n",
        "\n",
        "test_set=stock[stock.index>'2019-12-31']\n",
        "\n",
        "#Also take past 60 days information and add them into test data set\n",
        "past_60days=train_set.tail(60)\n",
        "test=test_set.append(past_60days)\n",
        "test=test.sort_index()\n",
        "\n",
        "# Drop 'Adj Close' columns\n",
        "test=test.drop('Adj Close',axis=1)"
      ],
      "execution_count": 10,
      "outputs": []
    },
    {
      "cell_type": "code",
      "metadata": {
        "id": "i6S7l1S7ocAt",
        "colab_type": "code",
        "colab": {
          "base_uri": "https://localhost:8080/",
          "height": 33
        },
        "outputId": "753af164-f6bb-49fe-8ef1-9019afcfc5da"
      },
      "source": [
        "# Check the test shape\n",
        "test.shape"
      ],
      "execution_count": 11,
      "outputs": [
        {
          "output_type": "execute_result",
          "data": {
            "text/plain": [
              "(185, 5)"
            ]
          },
          "metadata": {
            "tags": []
          },
          "execution_count": 11
        }
      ]
    },
    {
      "cell_type": "code",
      "metadata": {
        "id": "BaORHTf3FH05",
        "colab_type": "code",
        "colab": {
          "base_uri": "https://localhost:8080/",
          "height": 350
        },
        "outputId": "1faecd28-0493-48ae-dceb-9ac2fe24f885"
      },
      "source": [
        " # Scale the test dataset\n",
        "test_scaled = scaler.fit_transform(test)\n",
        "test_scaled[0:10]"
      ],
      "execution_count": 12,
      "outputs": [
        {
          "output_type": "execute_result",
          "data": {
            "text/plain": [
              "array([[0.00000000e+00, 7.53708383e-02, 0.00000000e+00, 1.85706199e-02,\n",
              "        2.41570138e-01],\n",
              "       [1.68402733e-02, 8.84003525e-02, 4.52070092e-03, 1.89223577e-02,\n",
              "        1.99040043e-01],\n",
              "       [3.93396416e-03, 7.83108521e-02, 1.29167576e-03, 2.11021233e-04,\n",
              "        1.71464696e-01],\n",
              "       [2.07045203e-03, 8.70640103e-02, 9.97416320e-03, 1.87113365e-02,\n",
              "        7.40342580e-02],\n",
              "       [2.03602523e-02, 9.81558438e-02, 1.64322135e-02, 4.02363610e-02,\n",
              "        1.74603542e-01],\n",
              "       [7.00531019e-02, 1.31631688e-01, 5.24540580e-02, 8.32865172e-02,\n",
              "        3.16035672e-01],\n",
              "       [7.34350158e-02, 1.47400770e-01, 6.64465734e-02, 8.08947644e-02,\n",
              "        1.30986843e-01],\n",
              "       [7.01220819e-02, 1.48803996e-01, 7.71383464e-02, 7.70259702e-02,\n",
              "        1.07141505e-01],\n",
              "       [5.34888538e-02, 1.37578497e-01, 5.54678221e-02, 7.03432734e-02,\n",
              "        7.17537563e-02],\n",
              "       [5.97694005e-02, 1.39716726e-01, 6.78099663e-02, 7.67445370e-02,\n",
              "        5.51391232e-02]])"
            ]
          },
          "metadata": {
            "tags": []
          },
          "execution_count": 12
        }
      ]
    },
    {
      "cell_type": "code",
      "metadata": {
        "id": "dF-Vgr_tEy04",
        "colab_type": "code",
        "colab": {
          "base_uri": "https://localhost:8080/",
          "height": 33
        },
        "outputId": "62c5a9e6-691f-4b71-929e-804b81e4e4b8"
      },
      "source": [
        "# Following the same procedure as Train dataset\n",
        "xtest=[]\n",
        "ytest=[]\n",
        "\n",
        "for i in range(60, len(test_scaled)):\n",
        "  xtest.append(test_scaled[i-60:i])\n",
        "  ytest.append(test_scaled[i, 2])\n",
        "\n",
        "xtest = np.array(xtest)\n",
        "ytest = np.array(ytest)\n",
        "xtest.shape"
      ],
      "execution_count": 13,
      "outputs": [
        {
          "output_type": "execute_result",
          "data": {
            "text/plain": [
              "(125, 60, 5)"
            ]
          },
          "metadata": {
            "tags": []
          },
          "execution_count": 13
        }
      ]
    },
    {
      "cell_type": "markdown",
      "metadata": {
        "id": "oze7K-5Zb8SB",
        "colab_type": "text"
      },
      "source": [
        "Predict the stock open price"
      ]
    },
    {
      "cell_type": "code",
      "metadata": {
        "id": "9EsrYJkVGfrV",
        "colab_type": "code",
        "colab": {}
      },
      "source": [
        "ypred=RNN.predict(xtest )"
      ],
      "execution_count": 14,
      "outputs": []
    },
    {
      "cell_type": "code",
      "metadata": {
        "id": "R-SdiM8tHAAN",
        "colab_type": "code",
        "colab": {}
      },
      "source": [
        "#Inverse scaling the ytest and ypred\n",
        "\n",
        "inv_scale=1/scaler.scale_[2]\n",
        "ypred=inv_scale*ypred\n",
        "ytest=inv_scale*ytest"
      ],
      "execution_count": 15,
      "outputs": []
    },
    {
      "cell_type": "code",
      "metadata": {
        "id": "2CRwtblgHYtS",
        "colab_type": "code",
        "colab": {
          "base_uri": "https://localhost:8080/",
          "height": 611
        },
        "outputId": "b74c225c-3133-4594-a7cd-3225b2961d15"
      },
      "source": [
        "plt.figure( figsize=(15,10))\n",
        "plt.plot(ytest)\n",
        "plt.plot(ypred)\n",
        "plt.legend(['Actual Value', 'Predicted Value'],loc='upper left')\n",
        "plt.xlabel('Time')\n",
        "plt.ylabel(\"Open Value of Apple Stock\")\n",
        "plt.show()\n",
        "\n",
        "# Result show predicted values are very much close to actual value and capture the variation very good"
      ],
      "execution_count": 16,
      "outputs": [
        {
          "output_type": "display_data",
          "data": {
            "image/png": "[encoded data removed]",
            "text/plain": [
              "<Figure size 720x720 with 1 Axes>"
            ]
          },
          "metadata": {
            "tags": [],
            "needs_background": "light"
          }
        }
      ]
    },
    {
      "cell_type": "code",
      "metadata": {
        "id": "RsJ4a07emeUM",
        "colab_type": "code",
        "colab": {
          "base_uri": "https://localhost:8080/",
          "height": 33
        },
        "outputId": "98800be6-aefb-4ada-f94e-bc150300e48e"
      },
      "source": [
        "# Lets check the RMSE\n",
        "from sklearn.metrics import mean_squared_error\n",
        "mse=mean_squared_error(ytest,ypred)\n",
        "np.sqrt(mse)"
      ],
      "execution_count": 17,
      "outputs": [
        {
          "output_type": "execute_result",
          "data": {
            "text/plain": [
              "8.85830976395722"
            ]
          },
          "metadata": {
            "tags": []
          },
          "execution_count": 17
        }
      ]
    },
    {
      "cell_type": "code",
      "metadata": {
        "id": "EdmIyEOrmsf8",
        "colab_type": "code",
        "colab": {}
      },
      "source": [
        ""
      ],
      "execution_count": null,
      "outputs": []
    }
  ]
}